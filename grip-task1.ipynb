{
 "cells": [
  {
   "cell_type": "markdown",
   "id": "operating-cricket",
   "metadata": {
    "papermill": {
     "duration": 0.031504,
     "end_time": "2021-07-06T13:16:44.505541",
     "exception": false,
     "start_time": "2021-07-06T13:16:44.474037",
     "status": "completed"
    },
    "tags": []
   },
   "source": [
    "# Author: Kushagra Gupta\n",
    "# Grip Task 1 \n",
    "# Title :Prediction using supervised Ml"
   ]
  },
  {
   "cell_type": "code",
   "execution_count": 1,
   "id": "spare-confidentiality",
   "metadata": {
    "_cell_guid": "b1076dfc-b9ad-4769-8c92-a6c4dae69d19",
    "_uuid": "8f2839f25d086af736a60e9eeb907d3b93b6e0e5",
    "execution": {
     "iopub.execute_input": "2021-07-06T13:16:44.556858Z",
     "iopub.status.busy": "2021-07-06T13:16:44.556170Z",
     "iopub.status.idle": "2021-07-06T13:16:44.572026Z",
     "shell.execute_reply": "2021-07-06T13:16:44.572807Z",
     "shell.execute_reply.started": "2021-07-06T13:02:33.628546Z"
    },
    "papermill": {
     "duration": 0.043116,
     "end_time": "2021-07-06T13:16:44.573177",
     "exception": false,
     "start_time": "2021-07-06T13:16:44.530061",
     "status": "completed"
    },
    "tags": []
   },
   "outputs": [
    {
     "name": "stdout",
     "output_type": "stream",
     "text": [
      "/kaggle/input/griptask1/student_scores-student_scores.csv\n"
     ]
    }
   ],
   "source": [
    "# This Python 3 environment comes with many helpful analytics libraries installed\n",
    "# It is defined by the kaggle/python Docker image: https://github.com/kaggle/docker-python\n",
    "# For example, here's several helpful packages to load\n",
    "\n",
    "import numpy as np # linear algebra\n",
    "import pandas as pd # data processing, CSV file I/O (e.g. pd.read_csv)\n",
    "\n",
    "# Input data files are available in the read-only \"../input/\" directory\n",
    "# For example, running this (by clicking run or pressing Shift+Enter) will list all files under the input directory\n",
    "\n",
    "import os\n",
    "for dirname, _, filenames in os.walk('/kaggle/input'):\n",
    "    for filename in filenames:\n",
    "        print(os.path.join(dirname, filename))\n",
    "\n",
    "# You can write up to 20GB to the current directory (/kaggle/working/) that gets preserved as output when you create a version using \"Save & Run All\" \n",
    "# You can also write temporary files to /kaggle/temp/, but they won't be saved outside of the current session"
   ]
  },
  {
   "cell_type": "markdown",
   "id": "artistic-tuition",
   "metadata": {
    "papermill": {
     "duration": 0.026489,
     "end_time": "2021-07-06T13:16:44.625982",
     "exception": false,
     "start_time": "2021-07-06T13:16:44.599493",
     "status": "completed"
    },
    "tags": []
   },
   "source": [
    "``importing the libraries``"
   ]
  },
  {
   "cell_type": "code",
   "execution_count": 2,
   "id": "integrated-bolivia",
   "metadata": {
    "execution": {
     "iopub.execute_input": "2021-07-06T13:16:44.674297Z",
     "iopub.status.busy": "2021-07-06T13:16:44.673376Z",
     "iopub.status.idle": "2021-07-06T13:16:45.603288Z",
     "shell.execute_reply": "2021-07-06T13:16:45.602581Z",
     "shell.execute_reply.started": "2021-07-06T13:02:34.108798Z"
    },
    "papermill": {
     "duration": 0.956382,
     "end_time": "2021-07-06T13:16:45.603427",
     "exception": false,
     "start_time": "2021-07-06T13:16:44.647045",
     "status": "completed"
    },
    "tags": []
   },
   "outputs": [],
   "source": [
    "import pandas as pd\n",
    "import numpy as np  \n",
    "import matplotlib.pyplot as plt  \n",
    "%matplotlib inline\n",
    "import seaborn as sns"
   ]
  },
  {
   "cell_type": "markdown",
   "id": "initial-spanish",
   "metadata": {
    "papermill": {
     "duration": 0.01871,
     "end_time": "2021-07-06T13:16:45.644690",
     "exception": false,
     "start_time": "2021-07-06T13:16:45.625980",
     "status": "completed"
    },
    "tags": []
   },
   "source": [
    "``Reading the csv file``"
   ]
  },
  {
   "cell_type": "code",
   "execution_count": 3,
   "id": "induced-malta",
   "metadata": {
    "execution": {
     "iopub.execute_input": "2021-07-06T13:16:45.688116Z",
     "iopub.status.busy": "2021-07-06T13:16:45.687374Z",
     "iopub.status.idle": "2021-07-06T13:16:45.700225Z",
     "shell.execute_reply": "2021-07-06T13:16:45.699605Z",
     "shell.execute_reply.started": "2021-07-06T13:02:34.440894Z"
    },
    "papermill": {
     "duration": 0.036966,
     "end_time": "2021-07-06T13:16:45.700369",
     "exception": false,
     "start_time": "2021-07-06T13:16:45.663403",
     "status": "completed"
    },
    "tags": []
   },
   "outputs": [],
   "source": [
    "df=pd.read_csv('../input/griptask1/student_scores-student_scores.csv')\n"
   ]
  },
  {
   "cell_type": "markdown",
   "id": "hazardous-crossing",
   "metadata": {
    "papermill": {
     "duration": 0.018609,
     "end_time": "2021-07-06T13:16:45.737972",
     "exception": false,
     "start_time": "2021-07-06T13:16:45.719363",
     "status": "completed"
    },
    "tags": []
   },
   "source": [
    "``Displaying the first 10 files of the data``\n",
    "\n"
   ]
  },
  {
   "cell_type": "code",
   "execution_count": 4,
   "id": "suspected-eight",
   "metadata": {
    "execution": {
     "iopub.execute_input": "2021-07-06T13:16:45.789941Z",
     "iopub.status.busy": "2021-07-06T13:16:45.789022Z",
     "iopub.status.idle": "2021-07-06T13:16:45.807632Z",
     "shell.execute_reply": "2021-07-06T13:16:45.807088Z",
     "shell.execute_reply.started": "2021-07-06T13:02:50.019626Z"
    },
    "papermill": {
     "duration": 0.051006,
     "end_time": "2021-07-06T13:16:45.807781",
     "exception": false,
     "start_time": "2021-07-06T13:16:45.756775",
     "status": "completed"
    },
    "tags": []
   },
   "outputs": [
    {
     "data": {
      "text/html": [
       "<div>\n",
       "<style scoped>\n",
       "    .dataframe tbody tr th:only-of-type {\n",
       "        vertical-align: middle;\n",
       "    }\n",
       "\n",
       "    .dataframe tbody tr th {\n",
       "        vertical-align: top;\n",
       "    }\n",
       "\n",
       "    .dataframe thead th {\n",
       "        text-align: right;\n",
       "    }\n",
       "</style>\n",
       "<table border=\"1\" class=\"dataframe\">\n",
       "  <thead>\n",
       "    <tr style=\"text-align: right;\">\n",
       "      <th></th>\n",
       "      <th>Hours</th>\n",
       "      <th>Scores</th>\n",
       "    </tr>\n",
       "  </thead>\n",
       "  <tbody>\n",
       "    <tr>\n",
       "      <th>0</th>\n",
       "      <td>2.5</td>\n",
       "      <td>21</td>\n",
       "    </tr>\n",
       "    <tr>\n",
       "      <th>1</th>\n",
       "      <td>5.1</td>\n",
       "      <td>47</td>\n",
       "    </tr>\n",
       "    <tr>\n",
       "      <th>2</th>\n",
       "      <td>3.2</td>\n",
       "      <td>27</td>\n",
       "    </tr>\n",
       "    <tr>\n",
       "      <th>3</th>\n",
       "      <td>8.5</td>\n",
       "      <td>75</td>\n",
       "    </tr>\n",
       "    <tr>\n",
       "      <th>4</th>\n",
       "      <td>3.5</td>\n",
       "      <td>30</td>\n",
       "    </tr>\n",
       "    <tr>\n",
       "      <th>5</th>\n",
       "      <td>1.5</td>\n",
       "      <td>20</td>\n",
       "    </tr>\n",
       "    <tr>\n",
       "      <th>6</th>\n",
       "      <td>9.2</td>\n",
       "      <td>88</td>\n",
       "    </tr>\n",
       "    <tr>\n",
       "      <th>7</th>\n",
       "      <td>5.5</td>\n",
       "      <td>60</td>\n",
       "    </tr>\n",
       "    <tr>\n",
       "      <th>8</th>\n",
       "      <td>8.3</td>\n",
       "      <td>81</td>\n",
       "    </tr>\n",
       "    <tr>\n",
       "      <th>9</th>\n",
       "      <td>2.7</td>\n",
       "      <td>25</td>\n",
       "    </tr>\n",
       "  </tbody>\n",
       "</table>\n",
       "</div>"
      ],
      "text/plain": [
       "   Hours  Scores\n",
       "0    2.5      21\n",
       "1    5.1      47\n",
       "2    3.2      27\n",
       "3    8.5      75\n",
       "4    3.5      30\n",
       "5    1.5      20\n",
       "6    9.2      88\n",
       "7    5.5      60\n",
       "8    8.3      81\n",
       "9    2.7      25"
      ]
     },
     "execution_count": 4,
     "metadata": {},
     "output_type": "execute_result"
    }
   ],
   "source": [
    "df.head(10)\n"
   ]
  },
  {
   "cell_type": "markdown",
   "id": "sought-vessel",
   "metadata": {
    "papermill": {
     "duration": 0.019166,
     "end_time": "2021-07-06T13:16:45.846569",
     "exception": false,
     "start_time": "2021-07-06T13:16:45.827403",
     "status": "completed"
    },
    "tags": []
   },
   "source": [
    "``Plotting a curve between hours and scores It shows a 2d curve``"
   ]
  },
  {
   "cell_type": "code",
   "execution_count": 5,
   "id": "addressed-allowance",
   "metadata": {
    "execution": {
     "iopub.execute_input": "2021-07-06T13:16:45.888584Z",
     "iopub.status.busy": "2021-07-06T13:16:45.887923Z",
     "iopub.status.idle": "2021-07-06T13:16:46.143623Z",
     "shell.execute_reply": "2021-07-06T13:16:46.144337Z",
     "shell.execute_reply.started": "2021-07-06T13:02:34.784050Z"
    },
    "papermill": {
     "duration": 0.278487,
     "end_time": "2021-07-06T13:16:46.144515",
     "exception": false,
     "start_time": "2021-07-06T13:16:45.866028",
     "status": "completed"
    },
    "tags": []
   },
   "outputs": [
    {
     "data": {
      "image/png": "[encoded data removed]",
      "text/plain": [
       "<Figure size 432x288 with 1 Axes>"
      ]
     },
     "metadata": {
      "needs_background": "light"
     },
     "output_type": "display_data"
    }
   ],
   "source": [
    "df.plot(x='Hours',y='Scores',style='o')\n",
    "plt.title('Hours vs Scores',size=20)\n",
    "plt.xlabel('Hours',size=20)\n",
    "plt.ylabel('Scores',size=20)\n",
    "plt.show()\n"
   ]
  },
  {
   "cell_type": "markdown",
   "id": "incorporated-coast",
   "metadata": {
    "papermill": {
     "duration": 0.024136,
     "end_time": "2021-07-06T13:16:46.198397",
     "exception": false,
     "start_time": "2021-07-06T13:16:46.174261",
     "status": "completed"
    },
    "tags": []
   },
   "source": [
    "``Here we can clearly see that there is a linear relation between hours and scores``\n"
   ]
  },
  {
   "cell_type": "code",
   "execution_count": 6,
   "id": "logical-trouble",
   "metadata": {
    "execution": {
     "iopub.execute_input": "2021-07-06T13:16:46.241860Z",
     "iopub.status.busy": "2021-07-06T13:16:46.241236Z",
     "iopub.status.idle": "2021-07-06T13:16:46.245861Z",
     "shell.execute_reply": "2021-07-06T13:16:46.246433Z",
     "shell.execute_reply.started": "2021-07-06T13:02:34.973479Z"
    },
    "papermill": {
     "duration": 0.028098,
     "end_time": "2021-07-06T13:16:46.246596",
     "exception": false,
     "start_time": "2021-07-06T13:16:46.218498",
     "status": "completed"
    },
    "tags": []
   },
   "outputs": [],
   "source": [
    "x=df.iloc[:,:-1].values\n",
    "y=df.iloc[:,1].values\n"
   ]
  },
  {
   "cell_type": "markdown",
   "id": "endangered-republic",
   "metadata": {
    "papermill": {
     "duration": 0.019752,
     "end_time": "2021-07-06T13:16:46.286600",
     "exception": false,
     "start_time": "2021-07-06T13:16:46.266848",
     "status": "completed"
    },
    "tags": []
   },
   "source": [
    "# Importing train test split``"
   ]
  },
  {
   "cell_type": "markdown",
   "id": "prescribed-christopher",
   "metadata": {
    "papermill": {
     "duration": 0.020127,
     "end_time": "2021-07-06T13:16:46.326843",
     "exception": false,
     "start_time": "2021-07-06T13:16:46.306716",
     "status": "completed"
    },
    "tags": []
   },
   "source": [
    "``The trian test split is used for supervised machine learning and for model selection this is used in Scilit learn library``"
   ]
  },
  {
   "cell_type": "code",
   "execution_count": 7,
   "id": "internal-peripheral",
   "metadata": {
    "execution": {
     "iopub.execute_input": "2021-07-06T13:16:46.377016Z",
     "iopub.status.busy": "2021-07-06T13:16:46.375921Z",
     "iopub.status.idle": "2021-07-06T13:16:46.617508Z",
     "shell.execute_reply": "2021-07-06T13:16:46.616956Z",
     "shell.execute_reply.started": "2021-07-06T13:02:35.122320Z"
    },
    "papermill": {
     "duration": 0.270573,
     "end_time": "2021-07-06T13:16:46.617655",
     "exception": false,
     "start_time": "2021-07-06T13:16:46.347082",
     "status": "completed"
    },
    "tags": []
   },
   "outputs": [],
   "source": [
    "from sklearn.model_selection import train_test_split\n",
    "x_train,x_test,y_train,y_test=train_test_split(x,y,random_state=0,test_size=0.2)"
   ]
  },
  {
   "cell_type": "markdown",
   "id": "acquired-preserve",
   "metadata": {
    "papermill": {
     "duration": 0.020025,
     "end_time": "2021-07-06T13:16:46.658389",
     "exception": false,
     "start_time": "2021-07-06T13:16:46.638364",
     "status": "completed"
    },
    "tags": []
   },
   "source": [
    "`` Importing Linear Regression and calculating the curve and fitting the train and test data``"
   ]
  },
  {
   "cell_type": "code",
   "execution_count": 8,
   "id": "stupid-softball",
   "metadata": {
    "execution": {
     "iopub.execute_input": "2021-07-06T13:16:46.713036Z",
     "iopub.status.busy": "2021-07-06T13:16:46.712140Z",
     "iopub.status.idle": "2021-07-06T13:16:46.826255Z",
     "shell.execute_reply": "2021-07-06T13:16:46.826777Z",
     "shell.execute_reply.started": "2021-07-06T13:02:35.274185Z"
    },
    "papermill": {
     "duration": 0.14206,
     "end_time": "2021-07-06T13:16:46.826970",
     "exception": false,
     "start_time": "2021-07-06T13:16:46.684910",
     "status": "completed"
    },
    "tags": []
   },
   "outputs": [
    {
     "data": {
      "text/plain": [
       "LinearRegression()"
      ]
     },
     "execution_count": 8,
     "metadata": {},
     "output_type": "execute_result"
    }
   ],
   "source": [
    "from sklearn.linear_model import LinearRegression\n",
    "lr=LinearRegression()\n",
    "lr.fit(x_train,y_train)"
   ]
  },
  {
   "cell_type": "markdown",
   "id": "fluid-causing",
   "metadata": {
    "papermill": {
     "duration": 0.020165,
     "end_time": "2021-07-06T13:16:46.867686",
     "exception": false,
     "start_time": "2021-07-06T13:16:46.847521",
     "status": "completed"
    },
    "tags": []
   },
   "source": [
    "``The curve below shows the coefficient and intercept of the line``"
   ]
  },
  {
   "cell_type": "code",
   "execution_count": 9,
   "id": "ruled-belle",
   "metadata": {
    "execution": {
     "iopub.execute_input": "2021-07-06T13:16:46.911908Z",
     "iopub.status.busy": "2021-07-06T13:16:46.911247Z",
     "iopub.status.idle": "2021-07-06T13:16:47.070988Z",
     "shell.execute_reply": "2021-07-06T13:16:47.070476Z",
     "shell.execute_reply.started": "2021-07-06T13:02:35.438462Z"
    },
    "papermill": {
     "duration": 0.182834,
     "end_time": "2021-07-06T13:16:47.071126",
     "exception": false,
     "start_time": "2021-07-06T13:16:46.888292",
     "status": "completed"
    },
    "tags": []
   },
   "outputs": [
    {
     "data": {
      "image/png": "[encoded data removed]",
      "text/plain": [
       "<Figure size 432x288 with 1 Axes>"
      ]
     },
     "metadata": {
      "needs_background": "light"
     },
     "output_type": "display_data"
    }
   ],
   "source": [
    "line=lr.coef_*x + lr.intercept_\n",
    "plt.scatter(x,y)\n",
    "plt.plot(x,line)\n",
    "plt.show()"
   ]
  },
  {
   "cell_type": "markdown",
   "id": "varying-economy",
   "metadata": {
    "papermill": {
     "duration": 0.021267,
     "end_time": "2021-07-06T13:16:47.113601",
     "exception": false,
     "start_time": "2021-07-06T13:16:47.092334",
     "status": "completed"
    },
    "tags": []
   },
   "source": [
    "``printing the x test``"
   ]
  },
  {
   "cell_type": "code",
   "execution_count": 10,
   "id": "marine-timer",
   "metadata": {
    "execution": {
     "iopub.execute_input": "2021-07-06T13:16:47.163908Z",
     "iopub.status.busy": "2021-07-06T13:16:47.162892Z",
     "iopub.status.idle": "2021-07-06T13:16:47.166572Z",
     "shell.execute_reply": "2021-07-06T13:16:47.167398Z",
     "shell.execute_reply.started": "2021-07-06T13:02:35.766534Z"
    },
    "papermill": {
     "duration": 0.030966,
     "end_time": "2021-07-06T13:16:47.167637",
     "exception": false,
     "start_time": "2021-07-06T13:16:47.136671",
     "status": "completed"
    },
    "tags": []
   },
   "outputs": [
    {
     "name": "stdout",
     "output_type": "stream",
     "text": [
      "[[1.5]\n",
      " [3.2]\n",
      " [7.4]\n",
      " [2.5]\n",
      " [5.9]]\n"
     ]
    }
   ],
   "source": [
    "print(x_test)"
   ]
  },
  {
   "cell_type": "markdown",
   "id": "considered-slovenia",
   "metadata": {
    "papermill": {
     "duration": 0.021916,
     "end_time": "2021-07-06T13:16:47.214412",
     "exception": false,
     "start_time": "2021-07-06T13:16:47.192496",
     "status": "completed"
    },
    "tags": []
   },
   "source": [
    "``Calculating the y pred using x test data``"
   ]
  },
  {
   "cell_type": "code",
   "execution_count": 11,
   "id": "painful-reach",
   "metadata": {
    "execution": {
     "iopub.execute_input": "2021-07-06T13:16:47.264032Z",
     "iopub.status.busy": "2021-07-06T13:16:47.262938Z",
     "iopub.status.idle": "2021-07-06T13:16:47.267530Z",
     "shell.execute_reply": "2021-07-06T13:16:47.266928Z",
     "shell.execute_reply.started": "2021-07-06T13:02:35.914747Z"
    },
    "papermill": {
     "duration": 0.031603,
     "end_time": "2021-07-06T13:16:47.267666",
     "exception": false,
     "start_time": "2021-07-06T13:16:47.236063",
     "status": "completed"
    },
    "tags": []
   },
   "outputs": [
    {
     "data": {
      "text/plain": [
       "array([16.88414476, 33.73226078, 75.357018  , 26.79480124, 60.49103328])"
      ]
     },
     "execution_count": 11,
     "metadata": {},
     "output_type": "execute_result"
    }
   ],
   "source": [
    "y_pred=lr.predict(x_test)\n",
    "y_pred"
   ]
  },
  {
   "cell_type": "markdown",
   "id": "dirty-january",
   "metadata": {
    "papermill": {
     "duration": 0.021418,
     "end_time": "2021-07-06T13:16:47.310816",
     "exception": false,
     "start_time": "2021-07-06T13:16:47.289398",
     "status": "completed"
    },
    "tags": []
   },
   "source": [
    "``Comparing the actual and predicted data``"
   ]
  },
  {
   "cell_type": "code",
   "execution_count": 12,
   "id": "indian-confidentiality",
   "metadata": {
    "execution": {
     "iopub.execute_input": "2021-07-06T13:16:47.358516Z",
     "iopub.status.busy": "2021-07-06T13:16:47.357533Z",
     "iopub.status.idle": "2021-07-06T13:16:47.369261Z",
     "shell.execute_reply": "2021-07-06T13:16:47.368546Z",
     "shell.execute_reply.started": "2021-07-06T12:52:22.496519Z"
    },
    "papermill": {
     "duration": 0.036749,
     "end_time": "2021-07-06T13:16:47.369411",
     "exception": false,
     "start_time": "2021-07-06T13:16:47.332662",
     "status": "completed"
    },
    "tags": []
   },
   "outputs": [
    {
     "data": {
      "text/html": [
       "<div>\n",
       "<style scoped>\n",
       "    .dataframe tbody tr th:only-of-type {\n",
       "        vertical-align: middle;\n",
       "    }\n",
       "\n",
       "    .dataframe tbody tr th {\n",
       "        vertical-align: top;\n",
       "    }\n",
       "\n",
       "    .dataframe thead th {\n",
       "        text-align: right;\n",
       "    }\n",
       "</style>\n",
       "<table border=\"1\" class=\"dataframe\">\n",
       "  <thead>\n",
       "    <tr style=\"text-align: right;\">\n",
       "      <th></th>\n",
       "      <th>Actual</th>\n",
       "      <th>Predicted</th>\n",
       "    </tr>\n",
       "  </thead>\n",
       "  <tbody>\n",
       "    <tr>\n",
       "      <th>0</th>\n",
       "      <td>20</td>\n",
       "      <td>16.884145</td>\n",
       "    </tr>\n",
       "    <tr>\n",
       "      <th>1</th>\n",
       "      <td>27</td>\n",
       "      <td>33.732261</td>\n",
       "    </tr>\n",
       "    <tr>\n",
       "      <th>2</th>\n",
       "      <td>69</td>\n",
       "      <td>75.357018</td>\n",
       "    </tr>\n",
       "    <tr>\n",
       "      <th>3</th>\n",
       "      <td>30</td>\n",
       "      <td>26.794801</td>\n",
       "    </tr>\n",
       "    <tr>\n",
       "      <th>4</th>\n",
       "      <td>62</td>\n",
       "      <td>60.491033</td>\n",
       "    </tr>\n",
       "  </tbody>\n",
       "</table>\n",
       "</div>"
      ],
      "text/plain": [
       "   Actual  Predicted\n",
       "0      20  16.884145\n",
       "1      27  33.732261\n",
       "2      69  75.357018\n",
       "3      30  26.794801\n",
       "4      62  60.491033"
      ]
     },
     "execution_count": 12,
     "metadata": {},
     "output_type": "execute_result"
    }
   ],
   "source": [
    "df=pd.DataFrame({'Actual':y_test,'Predicted':y_pred})\n",
    "df"
   ]
  },
  {
   "cell_type": "markdown",
   "id": "chief-password",
   "metadata": {
    "papermill": {
     "duration": 0.021973,
     "end_time": "2021-07-06T13:16:47.415770",
     "exception": false,
     "start_time": "2021-07-06T13:16:47.393797",
     "status": "completed"
    },
    "tags": []
   },
   "source": [
    "``Calculating the mean absolute error which is calculated with the help of sklearn library``"
   ]
  },
  {
   "cell_type": "code",
   "execution_count": 13,
   "id": "graphic-enzyme",
   "metadata": {
    "execution": {
     "iopub.execute_input": "2021-07-06T13:16:47.463825Z",
     "iopub.status.busy": "2021-07-06T13:16:47.462862Z",
     "iopub.status.idle": "2021-07-06T13:16:47.469453Z",
     "shell.execute_reply": "2021-07-06T13:16:47.470136Z",
     "shell.execute_reply.started": "2021-07-06T12:56:32.267591Z"
    },
    "papermill": {
     "duration": 0.032376,
     "end_time": "2021-07-06T13:16:47.470323",
     "exception": false,
     "start_time": "2021-07-06T13:16:47.437947",
     "status": "completed"
    },
    "tags": []
   },
   "outputs": [
    {
     "name": "stdout",
     "output_type": "stream",
     "text": [
      "Mean Absolute Error 4.183859899002982\n"
     ]
    }
   ],
   "source": [
    "from sklearn import metrics\n",
    "print('Mean Absolute Error',metrics.mean_absolute_error(y_test,y_pred))"
   ]
  },
  {
   "cell_type": "markdown",
   "id": "organized-board",
   "metadata": {
    "papermill": {
     "duration": 0.022228,
     "end_time": "2021-07-06T13:16:47.517440",
     "exception": false,
     "start_time": "2021-07-06T13:16:47.495212",
     "status": "completed"
    },
    "tags": []
   },
   "source": [
    "``Yhe above data shows Mean Absolute Error 4.183859899002982``"
   ]
  },
  {
   "cell_type": "code",
   "execution_count": null,
   "id": "danish-eagle",
   "metadata": {
    "papermill": {
     "duration": 0.022141,
     "end_time": "2021-07-06T13:16:47.562059",
     "exception": false,
     "start_time": "2021-07-06T13:16:47.539918",
     "status": "completed"
    },
    "tags": []
   },
   "outputs": [],
   "source": []
  }
 ],
 "metadata": {
  "kernelspec": {
   "display_name": "Python 3",
   "language": "python",
   "name": "python3"
  },
  "language_info": {
   "codemirror_mode": {
    "name": "ipython",
    "version": 3
   },
   "file_extension": ".py",
   "mimetype": "text/x-python",
   "name": "python",
   "nbconvert_exporter": "python",
   "pygments_lexer": "ipython3",
   "version": "3.7.9"
  },
  "papermill": {
   "default_parameters": {},
   "duration": 10.839184,
   "end_time": "2021-07-06T13:16:49.204154",
   "environment_variables": {},
   "exception": null,
   "input_path": "__notebook__.ipynb",
   "output_path": "__notebook__.ipynb",
   "parameters": {},
   "start_time": "2021-07-06T13:16:38.364970",
   "version": "2.3.2"
  }
 },
 "nbformat": 4,
 "nbformat_minor": 5
}
